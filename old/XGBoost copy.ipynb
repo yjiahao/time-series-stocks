{
 "cells": [
  {
   "cell_type": "markdown",
   "metadata": {},
   "source": [
    "# Perform time series forecasting using XGBoost"
   ]
  },
  {
   "cell_type": "code",
   "execution_count": 10,
   "metadata": {},
   "outputs": [],
   "source": [
    "import numpy as np\n",
    "import pandas as pd\n",
    "import matplotlib.pyplot as plt\n",
    "\n",
    "from xgboost import XGBRegressor\n",
    "\n",
    "from sklearn.preprocessing import StandardScaler, RobustScaler\n",
    "from sklearn.metrics import mean_squared_error\n",
    "\n",
    "from skopt import BayesSearchCV\n",
    "\n",
    "from joblib import dump\n",
    "from joblib import load"
   ]
  },
  {
   "cell_type": "code",
   "execution_count": 11,
   "metadata": {},
   "outputs": [
    {
     "data": {
      "text/html": [
       "<div>\n",
       "<style scoped>\n",
       "    .dataframe tbody tr th:only-of-type {\n",
       "        vertical-align: middle;\n",
       "    }\n",
       "\n",
       "    .dataframe tbody tr th {\n",
       "        vertical-align: top;\n",
       "    }\n",
       "\n",
       "    .dataframe thead th {\n",
       "        text-align: right;\n",
       "    }\n",
       "</style>\n",
       "<table border=\"1\" class=\"dataframe\">\n",
       "  <thead>\n",
       "    <tr style=\"text-align: right;\">\n",
       "      <th></th>\n",
       "      <th>Open</th>\n",
       "      <th>Volume</th>\n",
       "      <th>Close</th>\n",
       "      <th>month</th>\n",
       "      <th>day</th>\n",
       "      <th>quarter</th>\n",
       "      <th>lag_1</th>\n",
       "      <th>lag_2</th>\n",
       "      <th>MA</th>\n",
       "      <th>M_STD</th>\n",
       "    </tr>\n",
       "    <tr>\n",
       "      <th>Date</th>\n",
       "      <th></th>\n",
       "      <th></th>\n",
       "      <th></th>\n",
       "      <th></th>\n",
       "      <th></th>\n",
       "      <th></th>\n",
       "      <th></th>\n",
       "      <th></th>\n",
       "      <th></th>\n",
       "      <th></th>\n",
       "    </tr>\n",
       "  </thead>\n",
       "  <tbody>\n",
       "    <tr>\n",
       "      <th>2006-06-29</th>\n",
       "      <td>4.367592</td>\n",
       "      <td>14470000.0</td>\n",
       "      <td>4.46527</td>\n",
       "      <td>6</td>\n",
       "      <td>3</td>\n",
       "      <td>2</td>\n",
       "      <td>4.368524</td>\n",
       "      <td>4.401083</td>\n",
       "      <td>4.325699</td>\n",
       "      <td>0.125787</td>\n",
       "    </tr>\n",
       "    <tr>\n",
       "      <th>2006-06-30</th>\n",
       "      <td>4.432710</td>\n",
       "      <td>25964000.0</td>\n",
       "      <td>4.46527</td>\n",
       "      <td>6</td>\n",
       "      <td>4</td>\n",
       "      <td>2</td>\n",
       "      <td>4.465270</td>\n",
       "      <td>4.368524</td>\n",
       "      <td>4.338103</td>\n",
       "      <td>0.120293</td>\n",
       "    </tr>\n",
       "    <tr>\n",
       "      <th>2006-07-01</th>\n",
       "      <td>4.432710</td>\n",
       "      <td>25964000.0</td>\n",
       "      <td>4.46527</td>\n",
       "      <td>7</td>\n",
       "      <td>5</td>\n",
       "      <td>3</td>\n",
       "      <td>4.465270</td>\n",
       "      <td>4.465270</td>\n",
       "      <td>4.347592</td>\n",
       "      <td>0.118657</td>\n",
       "    </tr>\n",
       "    <tr>\n",
       "      <th>2006-07-02</th>\n",
       "      <td>4.432710</td>\n",
       "      <td>25964000.0</td>\n",
       "      <td>4.46527</td>\n",
       "      <td>7</td>\n",
       "      <td>6</td>\n",
       "      <td>3</td>\n",
       "      <td>4.465270</td>\n",
       "      <td>4.465270</td>\n",
       "      <td>4.349111</td>\n",
       "      <td>0.119898</td>\n",
       "    </tr>\n",
       "    <tr>\n",
       "      <th>2006-07-03</th>\n",
       "      <td>4.455966</td>\n",
       "      <td>7029000.0</td>\n",
       "      <td>4.40015</td>\n",
       "      <td>7</td>\n",
       "      <td>0</td>\n",
       "      <td>3</td>\n",
       "      <td>4.465270</td>\n",
       "      <td>4.465270</td>\n",
       "      <td>4.352243</td>\n",
       "      <td>0.121711</td>\n",
       "    </tr>\n",
       "  </tbody>\n",
       "</table>\n",
       "</div>"
      ],
      "text/plain": [
       "                Open      Volume    Close  month  day  quarter     lag_1  \\\n",
       "Date                                                                       \n",
       "2006-06-29  4.367592  14470000.0  4.46527      6    3        2  4.368524   \n",
       "2006-06-30  4.432710  25964000.0  4.46527      6    4        2  4.465270   \n",
       "2006-07-01  4.432710  25964000.0  4.46527      7    5        3  4.465270   \n",
       "2006-07-02  4.432710  25964000.0  4.46527      7    6        3  4.465270   \n",
       "2006-07-03  4.455966   7029000.0  4.40015      7    0        3  4.465270   \n",
       "\n",
       "               lag_2        MA     M_STD  \n",
       "Date                                      \n",
       "2006-06-29  4.401083  4.325699  0.125787  \n",
       "2006-06-30  4.368524  4.338103  0.120293  \n",
       "2006-07-01  4.465270  4.347592  0.118657  \n",
       "2006-07-02  4.465270  4.349111  0.119898  \n",
       "2006-07-03  4.465270  4.352243  0.121711  "
      ]
     },
     "execution_count": 11,
     "metadata": {},
     "output_type": "execute_result"
    }
   ],
   "source": [
    "df = pd.read_csv(\"./data/processed/mastercard_processed.csv\", parse_dates = True, index_col = [\"Date\"])\n",
    "df.head()"
   ]
  },
  {
   "cell_type": "code",
   "execution_count": 12,
   "metadata": {},
   "outputs": [],
   "source": [
    "# scale data\n",
    "scaler = StandardScaler()\n",
    "cols_to_standardize = ['Open', \"Volume\", \"lag_1\", \"lag_2\", \"MA\", \"M_STD\"]\n",
    "df[cols_to_standardize] = scaler.fit_transform(df[cols_to_standardize])"
   ]
  },
  {
   "cell_type": "markdown",
   "metadata": {},
   "source": [
    "## Modelling"
   ]
  },
  {
   "cell_type": "code",
   "execution_count": 13,
   "metadata": {},
   "outputs": [],
   "source": [
    "# split data into last 20 days to predict as test data\n",
    "df_train = df.iloc[:-300]\n",
    "df_val = df.iloc[-300:-150]\n",
    "df_test = df.iloc[-150:]\n",
    "\n",
    "X_train = df_train[[\"Open\", \"Volume\", \"month\", \"day\", \"quarter\", \"lag_1\", \"lag_2\", \"MA\", \"M_STD\"]]\n",
    "y_train = df_train[[\"Close\"]]\n",
    "\n",
    "X_val = df_val[[\"Open\", \"Volume\", \"month\", \"day\", \"quarter\", \"lag_1\", \"lag_2\", \"MA\", \"M_STD\"]]\n",
    "y_val = df_val[[\"Close\"]]\n",
    "\n",
    "X_test = df_test[[\"Open\", \"Volume\", \"month\", \"day\", \"quarter\", \"lag_1\", \"lag_2\", \"MA\", \"M_STD\"]]\n",
    "y_test = df_test[[\"Close\"]]"
   ]
  },
  {
   "cell_type": "code",
   "execution_count": 16,
   "metadata": {},
   "outputs": [
    {
     "data": {
      "text/html": [
       "<style>#sk-container-id-3 {\n",
       "  /* Definition of color scheme common for light and dark mode */\n",
       "  --sklearn-color-text: black;\n",
       "  --sklearn-color-line: gray;\n",
       "  /* Definition of color scheme for unfitted estimators */\n",
       "  --sklearn-color-unfitted-level-0: #fff5e6;\n",
       "  --sklearn-color-unfitted-level-1: #f6e4d2;\n",
       "  --sklearn-color-unfitted-level-2: #ffe0b3;\n",
       "  --sklearn-color-unfitted-level-3: chocolate;\n",
       "  /* Definition of color scheme for fitted estimators */\n",
       "  --sklearn-color-fitted-level-0: #f0f8ff;\n",
       "  --sklearn-color-fitted-level-1: #d4ebff;\n",
       "  --sklearn-color-fitted-level-2: #b3dbfd;\n",
       "  --sklearn-color-fitted-level-3: cornflowerblue;\n",
       "\n",
       "  /* Specific color for light theme */\n",
       "  --sklearn-color-text-on-default-background: var(--sg-text-color, var(--theme-code-foreground, var(--jp-content-font-color1, black)));\n",
       "  --sklearn-color-background: var(--sg-background-color, var(--theme-background, var(--jp-layout-color0, white)));\n",
       "  --sklearn-color-border-box: var(--sg-text-color, var(--theme-code-foreground, var(--jp-content-font-color1, black)));\n",
       "  --sklearn-color-icon: #696969;\n",
       "\n",
       "  @media (prefers-color-scheme: dark) {\n",
       "    /* Redefinition of color scheme for dark theme */\n",
       "    --sklearn-color-text-on-default-background: var(--sg-text-color, var(--theme-code-foreground, var(--jp-content-font-color1, white)));\n",
       "    --sklearn-color-background: var(--sg-background-color, var(--theme-background, var(--jp-layout-color0, #111)));\n",
       "    --sklearn-color-border-box: var(--sg-text-color, var(--theme-code-foreground, var(--jp-content-font-color1, white)));\n",
       "    --sklearn-color-icon: #878787;\n",
       "  }\n",
       "}\n",
       "\n",
       "#sk-container-id-3 {\n",
       "  color: var(--sklearn-color-text);\n",
       "}\n",
       "\n",
       "#sk-container-id-3 pre {\n",
       "  padding: 0;\n",
       "}\n",
       "\n",
       "#sk-container-id-3 input.sk-hidden--visually {\n",
       "  border: 0;\n",
       "  clip: rect(1px 1px 1px 1px);\n",
       "  clip: rect(1px, 1px, 1px, 1px);\n",
       "  height: 1px;\n",
       "  margin: -1px;\n",
       "  overflow: hidden;\n",
       "  padding: 0;\n",
       "  position: absolute;\n",
       "  width: 1px;\n",
       "}\n",
       "\n",
       "#sk-container-id-3 div.sk-dashed-wrapped {\n",
       "  border: 1px dashed var(--sklearn-color-line);\n",
       "  margin: 0 0.4em 0.5em 0.4em;\n",
       "  box-sizing: border-box;\n",
       "  padding-bottom: 0.4em;\n",
       "  background-color: var(--sklearn-color-background);\n",
       "}\n",
       "\n",
       "#sk-container-id-3 div.sk-container {\n",
       "  /* jupyter's `normalize.less` sets `[hidden] { display: none; }`\n",
       "     but bootstrap.min.css set `[hidden] { display: none !important; }`\n",
       "     so we also need the `!important` here to be able to override the\n",
       "     default hidden behavior on the sphinx rendered scikit-learn.org.\n",
       "     See: https://github.com/scikit-learn/scikit-learn/issues/21755 */\n",
       "  display: inline-block !important;\n",
       "  position: relative;\n",
       "}\n",
       "\n",
       "#sk-container-id-3 div.sk-text-repr-fallback {\n",
       "  display: none;\n",
       "}\n",
       "\n",
       "div.sk-parallel-item,\n",
       "div.sk-serial,\n",
       "div.sk-item {\n",
       "  /* draw centered vertical line to link estimators */\n",
       "  background-image: linear-gradient(var(--sklearn-color-text-on-default-background), var(--sklearn-color-text-on-default-background));\n",
       "  background-size: 2px 100%;\n",
       "  background-repeat: no-repeat;\n",
       "  background-position: center center;\n",
       "}\n",
       "\n",
       "/* Parallel-specific style estimator block */\n",
       "\n",
       "#sk-container-id-3 div.sk-parallel-item::after {\n",
       "  content: \"\";\n",
       "  width: 100%;\n",
       "  border-bottom: 2px solid var(--sklearn-color-text-on-default-background);\n",
       "  flex-grow: 1;\n",
       "}\n",
       "\n",
       "#sk-container-id-3 div.sk-parallel {\n",
       "  display: flex;\n",
       "  align-items: stretch;\n",
       "  justify-content: center;\n",
       "  background-color: var(--sklearn-color-background);\n",
       "  position: relative;\n",
       "}\n",
       "\n",
       "#sk-container-id-3 div.sk-parallel-item {\n",
       "  display: flex;\n",
       "  flex-direction: column;\n",
       "}\n",
       "\n",
       "#sk-container-id-3 div.sk-parallel-item:first-child::after {\n",
       "  align-self: flex-end;\n",
       "  width: 50%;\n",
       "}\n",
       "\n",
       "#sk-container-id-3 div.sk-parallel-item:last-child::after {\n",
       "  align-self: flex-start;\n",
       "  width: 50%;\n",
       "}\n",
       "\n",
       "#sk-container-id-3 div.sk-parallel-item:only-child::after {\n",
       "  width: 0;\n",
       "}\n",
       "\n",
       "/* Serial-specific style estimator block */\n",
       "\n",
       "#sk-container-id-3 div.sk-serial {\n",
       "  display: flex;\n",
       "  flex-direction: column;\n",
       "  align-items: center;\n",
       "  background-color: var(--sklearn-color-background);\n",
       "  padding-right: 1em;\n",
       "  padding-left: 1em;\n",
       "}\n",
       "\n",
       "\n",
       "/* Toggleable style: style used for estimator/Pipeline/ColumnTransformer box that is\n",
       "clickable and can be expanded/collapsed.\n",
       "- Pipeline and ColumnTransformer use this feature and define the default style\n",
       "- Estimators will overwrite some part of the style using the `sk-estimator` class\n",
       "*/\n",
       "\n",
       "/* Pipeline and ColumnTransformer style (default) */\n",
       "\n",
       "#sk-container-id-3 div.sk-toggleable {\n",
       "  /* Default theme specific background. It is overwritten whether we have a\n",
       "  specific estimator or a Pipeline/ColumnTransformer */\n",
       "  background-color: var(--sklearn-color-background);\n",
       "}\n",
       "\n",
       "/* Toggleable label */\n",
       "#sk-container-id-3 label.sk-toggleable__label {\n",
       "  cursor: pointer;\n",
       "  display: block;\n",
       "  width: 100%;\n",
       "  margin-bottom: 0;\n",
       "  padding: 0.5em;\n",
       "  box-sizing: border-box;\n",
       "  text-align: center;\n",
       "}\n",
       "\n",
       "#sk-container-id-3 label.sk-toggleable__label-arrow:before {\n",
       "  /* Arrow on the left of the label */\n",
       "  content: \"▸\";\n",
       "  float: left;\n",
       "  margin-right: 0.25em;\n",
       "  color: var(--sklearn-color-icon);\n",
       "}\n",
       "\n",
       "#sk-container-id-3 label.sk-toggleable__label-arrow:hover:before {\n",
       "  color: var(--sklearn-color-text);\n",
       "}\n",
       "\n",
       "/* Toggleable content - dropdown */\n",
       "\n",
       "#sk-container-id-3 div.sk-toggleable__content {\n",
       "  max-height: 0;\n",
       "  max-width: 0;\n",
       "  overflow: hidden;\n",
       "  text-align: left;\n",
       "  /* unfitted */\n",
       "  background-color: var(--sklearn-color-unfitted-level-0);\n",
       "}\n",
       "\n",
       "#sk-container-id-3 div.sk-toggleable__content.fitted {\n",
       "  /* fitted */\n",
       "  background-color: var(--sklearn-color-fitted-level-0);\n",
       "}\n",
       "\n",
       "#sk-container-id-3 div.sk-toggleable__content pre {\n",
       "  margin: 0.2em;\n",
       "  border-radius: 0.25em;\n",
       "  color: var(--sklearn-color-text);\n",
       "  /* unfitted */\n",
       "  background-color: var(--sklearn-color-unfitted-level-0);\n",
       "}\n",
       "\n",
       "#sk-container-id-3 div.sk-toggleable__content.fitted pre {\n",
       "  /* unfitted */\n",
       "  background-color: var(--sklearn-color-fitted-level-0);\n",
       "}\n",
       "\n",
       "#sk-container-id-3 input.sk-toggleable__control:checked~div.sk-toggleable__content {\n",
       "  /* Expand drop-down */\n",
       "  max-height: 200px;\n",
       "  max-width: 100%;\n",
       "  overflow: auto;\n",
       "}\n",
       "\n",
       "#sk-container-id-3 input.sk-toggleable__control:checked~label.sk-toggleable__label-arrow:before {\n",
       "  content: \"▾\";\n",
       "}\n",
       "\n",
       "/* Pipeline/ColumnTransformer-specific style */\n",
       "\n",
       "#sk-container-id-3 div.sk-label input.sk-toggleable__control:checked~label.sk-toggleable__label {\n",
       "  color: var(--sklearn-color-text);\n",
       "  background-color: var(--sklearn-color-unfitted-level-2);\n",
       "}\n",
       "\n",
       "#sk-container-id-3 div.sk-label.fitted input.sk-toggleable__control:checked~label.sk-toggleable__label {\n",
       "  background-color: var(--sklearn-color-fitted-level-2);\n",
       "}\n",
       "\n",
       "/* Estimator-specific style */\n",
       "\n",
       "/* Colorize estimator box */\n",
       "#sk-container-id-3 div.sk-estimator input.sk-toggleable__control:checked~label.sk-toggleable__label {\n",
       "  /* unfitted */\n",
       "  background-color: var(--sklearn-color-unfitted-level-2);\n",
       "}\n",
       "\n",
       "#sk-container-id-3 div.sk-estimator.fitted input.sk-toggleable__control:checked~label.sk-toggleable__label {\n",
       "  /* fitted */\n",
       "  background-color: var(--sklearn-color-fitted-level-2);\n",
       "}\n",
       "\n",
       "#sk-container-id-3 div.sk-label label.sk-toggleable__label,\n",
       "#sk-container-id-3 div.sk-label label {\n",
       "  /* The background is the default theme color */\n",
       "  color: var(--sklearn-color-text-on-default-background);\n",
       "}\n",
       "\n",
       "/* On hover, darken the color of the background */\n",
       "#sk-container-id-3 div.sk-label:hover label.sk-toggleable__label {\n",
       "  color: var(--sklearn-color-text);\n",
       "  background-color: var(--sklearn-color-unfitted-level-2);\n",
       "}\n",
       "\n",
       "/* Label box, darken color on hover, fitted */\n",
       "#sk-container-id-3 div.sk-label.fitted:hover label.sk-toggleable__label.fitted {\n",
       "  color: var(--sklearn-color-text);\n",
       "  background-color: var(--sklearn-color-fitted-level-2);\n",
       "}\n",
       "\n",
       "/* Estimator label */\n",
       "\n",
       "#sk-container-id-3 div.sk-label label {\n",
       "  font-family: monospace;\n",
       "  font-weight: bold;\n",
       "  display: inline-block;\n",
       "  line-height: 1.2em;\n",
       "}\n",
       "\n",
       "#sk-container-id-3 div.sk-label-container {\n",
       "  text-align: center;\n",
       "}\n",
       "\n",
       "/* Estimator-specific */\n",
       "#sk-container-id-3 div.sk-estimator {\n",
       "  font-family: monospace;\n",
       "  border: 1px dotted var(--sklearn-color-border-box);\n",
       "  border-radius: 0.25em;\n",
       "  box-sizing: border-box;\n",
       "  margin-bottom: 0.5em;\n",
       "  /* unfitted */\n",
       "  background-color: var(--sklearn-color-unfitted-level-0);\n",
       "}\n",
       "\n",
       "#sk-container-id-3 div.sk-estimator.fitted {\n",
       "  /* fitted */\n",
       "  background-color: var(--sklearn-color-fitted-level-0);\n",
       "}\n",
       "\n",
       "/* on hover */\n",
       "#sk-container-id-3 div.sk-estimator:hover {\n",
       "  /* unfitted */\n",
       "  background-color: var(--sklearn-color-unfitted-level-2);\n",
       "}\n",
       "\n",
       "#sk-container-id-3 div.sk-estimator.fitted:hover {\n",
       "  /* fitted */\n",
       "  background-color: var(--sklearn-color-fitted-level-2);\n",
       "}\n",
       "\n",
       "/* Specification for estimator info (e.g. \"i\" and \"?\") */\n",
       "\n",
       "/* Common style for \"i\" and \"?\" */\n",
       "\n",
       ".sk-estimator-doc-link,\n",
       "a:link.sk-estimator-doc-link,\n",
       "a:visited.sk-estimator-doc-link {\n",
       "  float: right;\n",
       "  font-size: smaller;\n",
       "  line-height: 1em;\n",
       "  font-family: monospace;\n",
       "  background-color: var(--sklearn-color-background);\n",
       "  border-radius: 1em;\n",
       "  height: 1em;\n",
       "  width: 1em;\n",
       "  text-decoration: none !important;\n",
       "  margin-left: 1ex;\n",
       "  /* unfitted */\n",
       "  border: var(--sklearn-color-unfitted-level-1) 1pt solid;\n",
       "  color: var(--sklearn-color-unfitted-level-1);\n",
       "}\n",
       "\n",
       ".sk-estimator-doc-link.fitted,\n",
       "a:link.sk-estimator-doc-link.fitted,\n",
       "a:visited.sk-estimator-doc-link.fitted {\n",
       "  /* fitted */\n",
       "  border: var(--sklearn-color-fitted-level-1) 1pt solid;\n",
       "  color: var(--sklearn-color-fitted-level-1);\n",
       "}\n",
       "\n",
       "/* On hover */\n",
       "div.sk-estimator:hover .sk-estimator-doc-link:hover,\n",
       ".sk-estimator-doc-link:hover,\n",
       "div.sk-label-container:hover .sk-estimator-doc-link:hover,\n",
       ".sk-estimator-doc-link:hover {\n",
       "  /* unfitted */\n",
       "  background-color: var(--sklearn-color-unfitted-level-3);\n",
       "  color: var(--sklearn-color-background);\n",
       "  text-decoration: none;\n",
       "}\n",
       "\n",
       "div.sk-estimator.fitted:hover .sk-estimator-doc-link.fitted:hover,\n",
       ".sk-estimator-doc-link.fitted:hover,\n",
       "div.sk-label-container:hover .sk-estimator-doc-link.fitted:hover,\n",
       ".sk-estimator-doc-link.fitted:hover {\n",
       "  /* fitted */\n",
       "  background-color: var(--sklearn-color-fitted-level-3);\n",
       "  color: var(--sklearn-color-background);\n",
       "  text-decoration: none;\n",
       "}\n",
       "\n",
       "/* Span, style for the box shown on hovering the info icon */\n",
       ".sk-estimator-doc-link span {\n",
       "  display: none;\n",
       "  z-index: 9999;\n",
       "  position: relative;\n",
       "  font-weight: normal;\n",
       "  right: .2ex;\n",
       "  padding: .5ex;\n",
       "  margin: .5ex;\n",
       "  width: min-content;\n",
       "  min-width: 20ex;\n",
       "  max-width: 50ex;\n",
       "  color: var(--sklearn-color-text);\n",
       "  box-shadow: 2pt 2pt 4pt #999;\n",
       "  /* unfitted */\n",
       "  background: var(--sklearn-color-unfitted-level-0);\n",
       "  border: .5pt solid var(--sklearn-color-unfitted-level-3);\n",
       "}\n",
       "\n",
       ".sk-estimator-doc-link.fitted span {\n",
       "  /* fitted */\n",
       "  background: var(--sklearn-color-fitted-level-0);\n",
       "  border: var(--sklearn-color-fitted-level-3);\n",
       "}\n",
       "\n",
       ".sk-estimator-doc-link:hover span {\n",
       "  display: block;\n",
       "}\n",
       "\n",
       "/* \"?\"-specific style due to the `<a>` HTML tag */\n",
       "\n",
       "#sk-container-id-3 a.estimator_doc_link {\n",
       "  float: right;\n",
       "  font-size: 1rem;\n",
       "  line-height: 1em;\n",
       "  font-family: monospace;\n",
       "  background-color: var(--sklearn-color-background);\n",
       "  border-radius: 1rem;\n",
       "  height: 1rem;\n",
       "  width: 1rem;\n",
       "  text-decoration: none;\n",
       "  /* unfitted */\n",
       "  color: var(--sklearn-color-unfitted-level-1);\n",
       "  border: var(--sklearn-color-unfitted-level-1) 1pt solid;\n",
       "}\n",
       "\n",
       "#sk-container-id-3 a.estimator_doc_link.fitted {\n",
       "  /* fitted */\n",
       "  border: var(--sklearn-color-fitted-level-1) 1pt solid;\n",
       "  color: var(--sklearn-color-fitted-level-1);\n",
       "}\n",
       "\n",
       "/* On hover */\n",
       "#sk-container-id-3 a.estimator_doc_link:hover {\n",
       "  /* unfitted */\n",
       "  background-color: var(--sklearn-color-unfitted-level-3);\n",
       "  color: var(--sklearn-color-background);\n",
       "  text-decoration: none;\n",
       "}\n",
       "\n",
       "#sk-container-id-3 a.estimator_doc_link.fitted:hover {\n",
       "  /* fitted */\n",
       "  background-color: var(--sklearn-color-fitted-level-3);\n",
       "}\n",
       "</style><div id=\"sk-container-id-3\" class=\"sk-top-container\"><div class=\"sk-text-repr-fallback\"><pre>XGBRegressor(base_score=None, booster=None, callbacks=None,\n",
       "             colsample_bylevel=None, colsample_bynode=None,\n",
       "             colsample_bytree=None, device=None, early_stopping_rounds=None,\n",
       "             enable_categorical=False, eval_metric=None, feature_types=None,\n",
       "             gamma=None, grow_policy=None, importance_type=None,\n",
       "             interaction_constraints=None, learning_rate=None, max_bin=None,\n",
       "             max_cat_threshold=None, max_cat_to_onehot=None,\n",
       "             max_delta_step=None, max_depth=None, max_leaves=None,\n",
       "             min_child_weight=None, missing=nan, monotone_constraints=None,\n",
       "             multi_strategy=None, n_estimators=None, n_jobs=None,\n",
       "             num_parallel_tree=None, random_state=42, ...)</pre><b>In a Jupyter environment, please rerun this cell to show the HTML representation or trust the notebook. <br />On GitHub, the HTML representation is unable to render, please try loading this page with nbviewer.org.</b></div><div class=\"sk-container\" hidden><div class=\"sk-item\"><div class=\"sk-estimator fitted sk-toggleable\"><input class=\"sk-toggleable__control sk-hidden--visually\" id=\"sk-estimator-id-3\" type=\"checkbox\" checked><label for=\"sk-estimator-id-3\" class=\"sk-toggleable__label fitted sk-toggleable__label-arrow fitted\">&nbsp;XGBRegressor<span class=\"sk-estimator-doc-link fitted\">i<span>Fitted</span></span></label><div class=\"sk-toggleable__content fitted\"><pre>XGBRegressor(base_score=None, booster=None, callbacks=None,\n",
       "             colsample_bylevel=None, colsample_bynode=None,\n",
       "             colsample_bytree=None, device=None, early_stopping_rounds=None,\n",
       "             enable_categorical=False, eval_metric=None, feature_types=None,\n",
       "             gamma=None, grow_policy=None, importance_type=None,\n",
       "             interaction_constraints=None, learning_rate=None, max_bin=None,\n",
       "             max_cat_threshold=None, max_cat_to_onehot=None,\n",
       "             max_delta_step=None, max_depth=None, max_leaves=None,\n",
       "             min_child_weight=None, missing=nan, monotone_constraints=None,\n",
       "             multi_strategy=None, n_estimators=None, n_jobs=None,\n",
       "             num_parallel_tree=None, random_state=42, ...)</pre></div> </div></div></div></div>"
      ],
      "text/plain": [
       "XGBRegressor(base_score=None, booster=None, callbacks=None,\n",
       "             colsample_bylevel=None, colsample_bynode=None,\n",
       "             colsample_bytree=None, device=None, early_stopping_rounds=None,\n",
       "             enable_categorical=False, eval_metric=None, feature_types=None,\n",
       "             gamma=None, grow_policy=None, importance_type=None,\n",
       "             interaction_constraints=None, learning_rate=None, max_bin=None,\n",
       "             max_cat_threshold=None, max_cat_to_onehot=None,\n",
       "             max_delta_step=None, max_depth=None, max_leaves=None,\n",
       "             min_child_weight=None, missing=nan, monotone_constraints=None,\n",
       "             multi_strategy=None, n_estimators=None, n_jobs=None,\n",
       "             num_parallel_tree=None, random_state=42, ...)"
      ]
     },
     "execution_count": 16,
     "metadata": {},
     "output_type": "execute_result"
    }
   ],
   "source": [
    "model = XGBRegressor(objective = \"reg:squarederror\", random_state = 42)\n",
    "model.fit(X_train, y_train)"
   ]
  },
  {
   "cell_type": "code",
   "execution_count": 17,
   "metadata": {},
   "outputs": [
    {
     "name": "stdout",
     "output_type": "stream",
     "text": [
      "Root mean squared error is:  0.84\n"
     ]
    }
   ],
   "source": [
    "# check RMSE for training data\n",
    "y_pred = model.predict(X_train)\n",
    "mse = mean_squared_error(y_train, y_pred)\n",
    "\n",
    "print(f\"Root mean squared error is: {np.sqrt(mse) : .2f}\")"
   ]
  },
  {
   "cell_type": "code",
   "execution_count": 18,
   "metadata": {},
   "outputs": [
    {
     "name": "stdout",
     "output_type": "stream",
     "text": [
      "Root mean squared error is:  18.59\n"
     ]
    }
   ],
   "source": [
    "y_pred = model.predict(X_val)\n",
    "mse = mean_squared_error(y_val, y_pred)\n",
    "\n",
    "print(f\"Root mean squared error is: {np.sqrt(mse) : .2f}\")"
   ]
  },
  {
   "cell_type": "markdown",
   "metadata": {},
   "source": [
    "We can see that RMSE for train data is much smaller than that of the validation data"
   ]
  },
  {
   "cell_type": "code",
   "execution_count": 19,
   "metadata": {},
   "outputs": [
    {
     "data": {
      "text/plain": [
       "array([467.7578 , 458.9032 , 465.29947, 461.59805, 466.61914, 460.67627,\n",
       "       459.60956, 459.26038, 456.70297, 455.66193, 457.8099 , 460.83533,\n",
       "       456.28674, 454.96237, 455.74463, 451.18475, 454.6217 , 455.21527,\n",
       "       456.40158, 449.7318 , 448.74542, 445.83932, 442.92606, 441.9127 ,\n",
       "       443.78818, 442.33218, 439.78888, 439.30112, 439.23938, 444.56998,\n",
       "       442.8038 , 443.4042 , 443.296  , 444.90356, 446.465  , 445.16153,\n",
       "       442.5347 , 441.99277, 444.45572, 446.00314, 445.3156 , 445.52402,\n",
       "       445.52402, 443.6769 , 438.90387, 445.01105, 443.02466, 442.55554,\n",
       "       444.1758 , 444.2577 , 445.1602 , 446.1687 , 444.54062, 447.03665,\n",
       "       444.3746 , 444.57278, 443.15076, 444.6482 , 441.94913, 455.9821 ,\n",
       "       458.38647, 460.9321 , 460.71643, 460.71643, 456.07852, 456.22235,\n",
       "       456.83295, 457.5553 , 457.14362, 455.8408 , 457.1621 , 456.95123,\n",
       "       457.7407 , 457.04697, 459.56375, 460.514  , 461.32965, 461.56607,\n",
       "       455.7509 , 460.97964, 458.63998, 458.11285, 458.83246, 455.74112,\n",
       "       448.8591 , 447.01022, 442.4178 , 441.30518, 442.19403, 443.3826 ,\n",
       "       443.52588, 443.52588, 442.81445, 444.41412, 443.87228, 445.1042 ,\n",
       "       444.47852, 444.68692, 444.9659 , 444.645  , 442.7797 , 443.09198,\n",
       "       444.7823 , 439.18805, 440.92108, 440.7022 , 446.86337, 445.72202,\n",
       "       445.65436, 444.3684 , 445.30554, 445.13226, 444.8495 , 444.44858,\n",
       "       442.8583 , 443.0574 , 442.84427, 445.62228, 445.8307 , 445.98996,\n",
       "       448.55914, 444.6472 , 445.20227, 443.58466, 445.47415, 445.29276,\n",
       "       445.9972 , 447.22418, 446.23618, 445.24338, 443.33984, 443.73068,\n",
       "       444.11508, 444.1702 , 441.94876, 444.3279 , 441.46524, 441.46887,\n",
       "       446.38977, 445.9343 , 445.9343 , 445.2236 , 444.19604, 444.96545,\n",
       "       431.0403 , 441.40927, 441.3392 , 441.44388, 443.5711 , 441.09448],\n",
       "      dtype=float32)"
      ]
     },
     "execution_count": 19,
     "metadata": {},
     "output_type": "execute_result"
    }
   ],
   "source": [
    "y_pred"
   ]
  },
  {
   "cell_type": "markdown",
   "metadata": {},
   "source": [
    "Plot the predicted and actual data"
   ]
  },
  {
   "cell_type": "code",
   "execution_count": 20,
   "metadata": {},
   "outputs": [
    {
     "data": {
      "image/png": "[encoded data removed]",
      "text/plain": [
       "<Figure size 1000x600 with 1 Axes>"
      ]
     },
     "metadata": {},
     "output_type": "display_data"
    }
   ],
   "source": [
    "plt.figure(figsize=(10, 6))\n",
    "plt.plot(X_val.index, y_val, label = \"Original Prices\", color = \"blue\")\n",
    "plt.plot(X_val.index, y_pred, label = \"Forecast\", color = \"red\")\n",
    "\n",
    "# Add labels and title\n",
    "plt.title(\"Forecasts made from XGBoost for 100 days into the future\")\n",
    "plt.xlabel(\"Date\")\n",
    "plt.ylabel(\"Value\")\n",
    "plt.xticks(rotation = 25)\n",
    "plt.legend()\n",
    "\n",
    "# Show the plot\n",
    "plt.show()"
   ]
  },
  {
   "cell_type": "markdown",
   "metadata": {},
   "source": [
    "## Save the model"
   ]
  },
  {
   "cell_type": "code",
   "execution_count": null,
   "metadata": {},
   "outputs": [
    {
     "data": {
      "text/plain": [
       "['./models/XGBRegressor.pkl']"
      ]
     },
     "execution_count": 15,
     "metadata": {},
     "output_type": "execute_result"
    }
   ],
   "source": [
    "# dump(model, \"./models/XGBRegressor.pkl\")"
   ]
  },
  {
   "cell_type": "code",
   "execution_count": 16,
   "metadata": {},
   "outputs": [],
   "source": [
    "# test loading of model\n",
    "# test_model = load(\"./models/XGBRegressor.pkl\")"
   ]
  },
  {
   "cell_type": "code",
   "execution_count": 18,
   "metadata": {},
   "outputs": [
    {
     "data": {
      "text/plain": [
       "array([467.75888, 463.4218 , 461.4108 , 461.72665, 463.7311 , 460.9454 ,\n",
       "       460.37997, 459.84268, 457.07047, 456.85367, 458.50522, 459.80905,\n",
       "       450.18515, 449.61972, 449.61972, 447.28873, 449.05457, 450.2285 ,\n",
       "       451.25412, 443.24194, 442.6765 , 438.25726, 438.7055 , 437.9584 ,\n",
       "       441.18692, 440.8633 , 440.92798, 440.9721 , 440.9721 , 441.1447 ,\n",
       "       440.45187, 441.47488, 440.53503, 444.1882 , 444.47842, 443.9573 ,\n",
       "       439.52454, 439.59595, 443.38544, 443.97635, 443.7741 , 443.41724,\n",
       "       443.40793, 442.70554, 437.17407, 444.7557 , 443.45053, 442.0497 ,\n",
       "       441.8088 , 441.65225, 443.21048, 445.14517, 441.59985, 446.55078,\n",
       "       443.43622, 442.63348, 442.11237, 441.08377, 438.5098 , 450.95938,\n",
       "       452.0908 , 453.64615, 453.7219 , 453.7219 , 451.34836, 450.41412,\n",
       "       451.45908, 452.00156, 452.0238 , 451.29202, 451.48157, 451.5379 ,\n",
       "       452.67923, 452.83765, 451.3521 , 453.05435, 454.4246 , 453.98456,\n",
       "       452.38574, 457.06152, 456.589  , 452.23172, 452.46136, 450.16986,\n",
       "       443.85797, 440.15448, 437.37225, 438.5218 , 439.18604, 439.42618,\n",
       "       438.86075, 438.86075, 437.89435, 439.12363, 440.21976, 441.6593 ,\n",
       "       440.45932, 440.10245, 440.67004, 440.58163, 440.66788, 441.2283 ,\n",
       "       440.72003, 440.46902, 440.4724 , 440.97293, 440.9403 , 441.30743,\n",
       "       441.53113, 441.79367, 441.45825, 440.89282, 441.4381 , 441.10583,\n",
       "       440.98978, 439.4682 , 440.4741 , 442.22   , 441.86313, 441.87244,\n",
       "       444.00458, 440.85498, 441.38104, 439.7236 , 440.6722 , 442.42902,\n",
       "       441.39526, 442.7989 , 443.01117, 441.3483 , 439.2305 , 441.54807,\n",
       "       441.50308, 441.50308, 438.23984, 441.00766, 438.29642, 439.0447 ,\n",
       "       444.85385, 444.6443 , 444.6443 , 441.48743, 442.6981 , 440.24585,\n",
       "       430.27368, 441.73633, 441.14328, 441.14328, 438.48846, 436.2614 ],\n",
       "      dtype=float32)"
      ]
     },
     "execution_count": 18,
     "metadata": {},
     "output_type": "execute_result"
    }
   ],
   "source": [
    "# test_model.predict(X_val)"
   ]
  },
  {
   "cell_type": "markdown",
   "metadata": {},
   "source": [
    "Our model can be saved and loaded successfully."
   ]
  },
  {
   "cell_type": "markdown",
   "metadata": {},
   "source": [
    "## Tune the XGB model"
   ]
  },
  {
   "cell_type": "code",
   "execution_count": 21,
   "metadata": {},
   "outputs": [
    {
     "name": "stdout",
     "output_type": "stream",
     "text": [
      "New best RMSE of validation set is: 20.23524601206872\n",
      "{'eta': 0.1, 'min_split_loss': 2, 'max_depth': 5, 'reg_lambda': 1, 'reg_alpha': 1}\n",
      "New best RMSE of validation set is: 19.4583240238974\n",
      "{'eta': 0.1, 'min_split_loss': 2, 'max_depth': 5, 'reg_lambda': 1, 'reg_alpha': 2}\n",
      "New best RMSE of validation set is: 18.968980246111247\n",
      "{'eta': 0.1, 'min_split_loss': 2, 'max_depth': 5, 'reg_lambda': 1, 'reg_alpha': 3}\n",
      "New best RMSE of validation set is: 18.55274814328756\n",
      "{'eta': 0.1, 'min_split_loss': 2, 'max_depth': 10, 'reg_lambda': 5, 'reg_alpha': 1}\n",
      "New best RMSE of validation set is: 18.46411193776672\n",
      "{'eta': 0.1, 'min_split_loss': 2, 'max_depth': 15, 'reg_lambda': 5, 'reg_alpha': 1}\n",
      "New best RMSE of validation set is: 17.952796256607826\n",
      "{'eta': 0.1, 'min_split_loss': 2, 'max_depth': 15, 'reg_lambda': 10, 'reg_alpha': 1}\n",
      "New best RMSE of validation set is: 17.559576926844393\n",
      "{'eta': 0.1, 'min_split_loss': 2, 'max_depth': 15, 'reg_lambda': 10, 'reg_alpha': 2}\n",
      "New best RMSE of validation set is: 16.19348954439804\n",
      "{'eta': 0.1, 'min_split_loss': 5, 'max_depth': 10, 'reg_lambda': 10, 'reg_alpha': 3}\n",
      "New best RMSE of validation set is: 16.15416506846929\n",
      "{'eta': 0.1, 'min_split_loss': 5, 'max_depth': 20, 'reg_lambda': 10, 'reg_alpha': 3}\n",
      "New best RMSE of validation set is: 16.077905904214035\n",
      "{'eta': 0.1, 'min_split_loss': 5, 'max_depth': 30, 'reg_lambda': 10, 'reg_alpha': 3}\n",
      "New best RMSE of validation set is: 15.663955820288045\n",
      "{'eta': 0.2, 'min_split_loss': 2, 'max_depth': 10, 'reg_lambda': 10, 'reg_alpha': 1}\n",
      "New best RMSE of validation set is: 15.127460063686259\n",
      "{'eta': 0.2, 'min_split_loss': 2, 'max_depth': 15, 'reg_lambda': 10, 'reg_alpha': 1}\n",
      "New best RMSE of validation set is: 14.939369844058586\n",
      "{'eta': 0.2, 'min_split_loss': 2, 'max_depth': 20, 'reg_lambda': 10, 'reg_alpha': 1}\n",
      "New best RMSE of validation set is: 14.7477938310717\n",
      "{'eta': 0.3, 'min_split_loss': 2, 'max_depth': 30, 'reg_lambda': 5, 'reg_alpha': 1}\n",
      "New best RMSE of validation set is: 14.646333602485878\n",
      "{'eta': 0.4, 'min_split_loss': 2, 'max_depth': 20, 'reg_lambda': 5, 'reg_alpha': 2}\n"
     ]
    }
   ],
   "source": [
    "search_space = {\n",
    "    'eta': [0.1, 0.2, 0.3, 0.4, 0.5],\n",
    "    'min_split_loss': [2, 5, 10, 20, 30],\n",
    "    'max_depth': [5, 10, 15, 20, 30],\n",
    "    'reg_lambda': [1, 2, 5, 10],\n",
    "    'reg_alpha': [1, 2, 3, 10]\n",
    "}\n",
    "\n",
    "best_params = {\n",
    "    \"eta\": 0,\n",
    "    \"min_split_loss\": 0,\n",
    "    \"max_depth\": 0,\n",
    "    \"reg_lambda\": 0,\n",
    "    \"reg_alpha\": 0\n",
    "}\n",
    "\n",
    "best_model = XGBRegressor(random_state = 42)\n",
    "\n",
    "best_rmse = 10000000\n",
    "\n",
    "scores = []\n",
    "\n",
    "i = 0\n",
    "j = 0\n",
    "stop = False\n",
    "\n",
    "for e in search_space['eta']:\n",
    "    if stop: break\n",
    "    for sl in search_space['min_split_loss']:\n",
    "        if stop: break\n",
    "        for max_d in search_space['max_depth']:\n",
    "            if stop: break\n",
    "            for l in search_space['reg_lambda']:\n",
    "                if stop: break\n",
    "                for alpha in search_space['reg_alpha']:\n",
    "                    model = XGBRegressor(\n",
    "                        objective = \"reg:squarederror\",\n",
    "                        eta = e,\n",
    "                        min_split_loss = sl,\n",
    "                        max_depth = max_d,\n",
    "                        reg_lambda = l,\n",
    "                        reg_alpha = alpha,\n",
    "                        random_state = 42\n",
    "                    )\n",
    "\n",
    "                    model.fit(X_train, y_train)\n",
    "                    y_pred = model.predict(X_val)\n",
    "                    mse = mean_squared_error(y_val, y_pred)\n",
    "\n",
    "                    scores.append(np.sqrt(mse))\n",
    "\n",
    "                    # update parameters if get better RMSE\n",
    "                    if np.sqrt(mse) < best_rmse:\n",
    "                        print(f\"New best RMSE of validation set is: {np.sqrt(mse)}\")\n",
    "                        best_rmse = np.sqrt(mse)\n",
    "                        best_params['eta'] = e\n",
    "                        best_params['min_split_loss'] = sl\n",
    "                        best_params['max_depth'] = max_d\n",
    "                        best_params['reg_lambda'] = l\n",
    "                        best_params['reg_alpha'] = alpha\n",
    "\n",
    "                        print(best_params)\n",
    "\n",
    "                        best_model = model\n",
    "\n",
    "                    # implement early stopping if after 10 rounds, no more significant improvements in rmse\n",
    "                    if len(scores) > 1 and (scores[i] > scores[i - 1] or abs(scores[i] - scores[i - 1]) < 0.1):\n",
    "                        j += 1\n",
    "                    else:\n",
    "                        j = 0\n",
    "\n",
    "                    if j == 10:\n",
    "                        stop = True\n",
    "                        break\n",
    "                    \n",
    "                    i += 1"
   ]
  },
  {
   "cell_type": "code",
   "execution_count": 22,
   "metadata": {},
   "outputs": [
    {
     "data": {
      "text/plain": [
       "{'eta': 0.4,\n",
       " 'min_split_loss': 2,\n",
       " 'max_depth': 20,\n",
       " 'reg_lambda': 5,\n",
       " 'reg_alpha': 2}"
      ]
     },
     "execution_count": 22,
     "metadata": {},
     "output_type": "execute_result"
    }
   ],
   "source": [
    "best_params"
   ]
  },
  {
   "cell_type": "code",
   "execution_count": 24,
   "metadata": {},
   "outputs": [
    {
     "data": {
      "text/plain": [
       "np.float64(14.646333602485878)"
      ]
     },
     "execution_count": 24,
     "metadata": {},
     "output_type": "execute_result"
    }
   ],
   "source": [
    "best_rmse"
   ]
  },
  {
   "cell_type": "code",
   "execution_count": 23,
   "metadata": {},
   "outputs": [
    {
     "data": {
      "text/plain": [
       "[<matplotlib.lines.Line2D at 0x14e97077e90>]"
      ]
     },
     "execution_count": 23,
     "metadata": {},
     "output_type": "execute_result"
    },
    {
     "data": {
      "image/png": "[encoded data removed]",
      "text/plain": [
       "<Figure size 640x480 with 1 Axes>"
      ]
     },
     "metadata": {},
     "output_type": "display_data"
    }
   ],
   "source": [
    "# plot how rmse changes\n",
    "plt.plot(scores)"
   ]
  },
  {
   "cell_type": "markdown",
   "metadata": {},
   "source": [
    "## Evaluate on test set"
   ]
  },
  {
   "cell_type": "code",
   "execution_count": 26,
   "metadata": {},
   "outputs": [
    {
     "name": "stdout",
     "output_type": "stream",
     "text": [
      "Best root mean squared error is:  30.43\n"
     ]
    }
   ],
   "source": [
    "best_model = XGBRegressor(\n",
    "    random_state = 42,\n",
    "    **best_params\n",
    ")\n",
    "\n",
    "X_train = pd.concat([X_train, X_val], axis = 0)\n",
    "y_train = pd.concat([y_train, y_val], axis = 0)\n",
    "\n",
    "best_model.fit(X_train, y_train)\n",
    "\n",
    "y_pred = best_model.predict(X_test)\n",
    "mse = mean_squared_error(y_test, y_pred)\n",
    "\n",
    "print(f\"Best root mean squared error is: {np.sqrt(mse) : .2f}\")"
   ]
  },
  {
   "cell_type": "code",
   "execution_count": 27,
   "metadata": {},
   "outputs": [
    {
     "data": {
      "image/png": "[encoded data removed]",
      "text/plain": [
       "<Figure size 1000x600 with 1 Axes>"
      ]
     },
     "metadata": {},
     "output_type": "display_data"
    }
   ],
   "source": [
    "plt.figure(figsize=(10, 6))\n",
    "plt.plot(X_test.index, y_test, label = \"Original Prices\", color = \"blue\")\n",
    "plt.plot(X_test.index, y_pred, label = \"Forecast\", color = \"red\")\n",
    "\n",
    "# Add labels and title\n",
    "plt.title(\"Forecasts made from the best XGBoost model for 100 days into the future\")\n",
    "plt.xlabel(\"Date\")\n",
    "plt.ylabel(\"Value\")\n",
    "plt.xticks(rotation = 25)\n",
    "plt.legend()\n",
    "\n",
    "# Show the plot\n",
    "plt.show()"
   ]
  },
  {
   "cell_type": "markdown",
   "metadata": {},
   "source": [
    "## Save the best XGB model"
   ]
  },
  {
   "cell_type": "code",
   "execution_count": 28,
   "metadata": {},
   "outputs": [
    {
     "data": {
      "text/plain": [
       "['./models/best_XGBRegressor_v1.pkl']"
      ]
     },
     "execution_count": 28,
     "metadata": {},
     "output_type": "execute_result"
    }
   ],
   "source": [
    "dump(best_model, \"./models/best_XGBRegressor_v1.pkl\")"
   ]
  }
 ],
 "metadata": {
  "kernelspec": {
   "display_name": ".venv",
   "language": "python",
   "name": "python3"
  },
  "language_info": {
   "codemirror_mode": {
    "name": "ipython",
    "version": 3
   },
   "file_extension": ".py",
   "mimetype": "text/x-python",
   "name": "python",
   "nbconvert_exporter": "python",
   "pygments_lexer": "ipython3",
   "version": "3.12.1"
  }
 },
 "nbformat": 4,
 "nbformat_minor": 2
}
