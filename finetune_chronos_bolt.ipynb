{
  "nbformat": 4,
  "nbformat_minor": 0,
  "metadata": {
    "colab": {
      "provenance": [],
      "gpuType": "T4"
    },
    "kernelspec": {
      "name": "python3",
      "display_name": "Python 3"
    },
    "language_info": {
      "name": "python"
    },
    "accelerator": "GPU"
  },
  "cells": [
    {
      "cell_type": "markdown",
      "source": [
        "## Unzip finetuning files containing training scripts"
      ],
      "metadata": {
        "id": "VdsynWDBj2Qa"
      }
    },
    {
      "cell_type": "code",
      "execution_count": 1,
      "metadata": {
        "colab": {
          "base_uri": "https://localhost:8080/"
        },
        "id": "MfaMeV1JjG2L",
        "outputId": "baa77350-3ba9-4f0e-cc02-2cf5ec42cff9"
      },
      "outputs": [
        {
          "output_type": "stream",
          "name": "stdout",
          "text": [
            "Archive:  finetuning.zip\n",
            "   creating: finetuning/evaluation/\n",
            "   creating: finetuning/training/\n",
            "   creating: finetuning/training/configs/\n",
            "  inflating: finetuning/training/configs/chronos-t5-large.yaml  \n",
            "  inflating: finetuning/training/configs/chronos-t5-small.yaml  \n",
            "  inflating: finetuning/training/train.py  \n",
            "  inflating: finetuning/evaluation/agg-relative-score.py  \n",
            "  inflating: finetuning/evaluation/evaluate.py  \n",
            "   creating: finetuning/evaluation/configs/\n",
            "  inflating: finetuning/evaluation/configs/zero-shot.yaml  \n",
            "  inflating: finetuning/evaluation/configs/in-domain.yaml  \n"
          ]
        }
      ],
      "source": [
        "!unzip finetuning.zip"
      ]
    },
    {
      "cell_type": "markdown",
      "source": [
        "## Install required packages"
      ],
      "metadata": {
        "id": "tcGvLGmvkhSc"
      }
    },
    {
      "cell_type": "code",
      "source": [
        "!pip install git+https://github.com/amazon-science/chronos-forecasting.git\n",
        "!pip install \"gluonts[torch]\"\n",
        "!pip install typer-config\n",
        "!pip install triton"
      ],
      "metadata": {
        "colab": {
          "base_uri": "https://localhost:8080/"
        },
        "id": "LUgY6mUIj0bU",
        "outputId": "82230977-c5c9-4934-ba06-8d067dbd7820"
      },
      "execution_count": 2,
      "outputs": [
        {
          "output_type": "stream",
          "name": "stdout",
          "text": [
            "Collecting git+https://github.com/amazon-science/chronos-forecasting.git\n",
            "  Cloning https://github.com/amazon-science/chronos-forecasting.git to /tmp/pip-req-build-k0zmwlrw\n",
            "  Running command git clone --filter=blob:none --quiet https://github.com/amazon-science/chronos-forecasting.git /tmp/pip-req-build-k0zmwlrw\n",
            "  Resolved https://github.com/amazon-science/chronos-forecasting.git to commit 751f5f5f342d31249d6fea65fc0a4abd2f47d3c6\n",
            "  Installing build dependencies ... \u001b[?25l\u001b[?25hdone\n",
            "  Getting requirements to build wheel ... \u001b[?25l\u001b[?25hdone\n",
            "  Preparing metadata (pyproject.toml) ... \u001b[?25l\u001b[?25hdone\n",
            "Collecting accelerate<1,>=0.32 (from chronos-forecasting==1.4.1)\n",
            "  Downloading accelerate-0.34.2-py3-none-any.whl.metadata (19 kB)\n",
            "Requirement already satisfied: torch<2.6,>=2.0 in /usr/local/lib/python3.10/dist-packages (from chronos-forecasting==1.4.1) (2.5.1+cu121)\n",
            "Requirement already satisfied: transformers<4.48,>=4.30 in /usr/local/lib/python3.10/dist-packages (from chronos-forecasting==1.4.1) (4.46.3)\n",
            "Requirement already satisfied: numpy<3.0.0,>=1.17 in /usr/local/lib/python3.10/dist-packages (from accelerate<1,>=0.32->chronos-forecasting==1.4.1) (1.26.4)\n",
            "Requirement already satisfied: packaging>=20.0 in /usr/local/lib/python3.10/dist-packages (from accelerate<1,>=0.32->chronos-forecasting==1.4.1) (24.2)\n",
            "Requirement already satisfied: psutil in /usr/local/lib/python3.10/dist-packages (from accelerate<1,>=0.32->chronos-forecasting==1.4.1) (5.9.5)\n",
            "Requirement already satisfied: pyyaml in /usr/local/lib/python3.10/dist-packages (from accelerate<1,>=0.32->chronos-forecasting==1.4.1) (6.0.2)\n",
            "Requirement already satisfied: huggingface-hub>=0.21.0 in /usr/local/lib/python3.10/dist-packages (from accelerate<1,>=0.32->chronos-forecasting==1.4.1) (0.26.5)\n",
            "Requirement already satisfied: safetensors>=0.4.3 in /usr/local/lib/python3.10/dist-packages (from accelerate<1,>=0.32->chronos-forecasting==1.4.1) (0.4.5)\n",
            "Requirement already satisfied: filelock in /usr/local/lib/python3.10/dist-packages (from torch<2.6,>=2.0->chronos-forecasting==1.4.1) (3.16.1)\n",
            "Requirement already satisfied: typing-extensions>=4.8.0 in /usr/local/lib/python3.10/dist-packages (from torch<2.6,>=2.0->chronos-forecasting==1.4.1) (4.12.2)\n",
            "Requirement already satisfied: networkx in /usr/local/lib/python3.10/dist-packages (from torch<2.6,>=2.0->chronos-forecasting==1.4.1) (3.4.2)\n",
            "Requirement already satisfied: jinja2 in /usr/local/lib/python3.10/dist-packages (from torch<2.6,>=2.0->chronos-forecasting==1.4.1) (3.1.4)\n",
            "Requirement already satisfied: fsspec in /usr/local/lib/python3.10/dist-packages (from torch<2.6,>=2.0->chronos-forecasting==1.4.1) (2024.10.0)\n",
            "Requirement already satisfied: sympy==1.13.1 in /usr/local/lib/python3.10/dist-packages (from torch<2.6,>=2.0->chronos-forecasting==1.4.1) (1.13.1)\n",
            "Requirement already satisfied: mpmath<1.4,>=1.1.0 in /usr/local/lib/python3.10/dist-packages (from sympy==1.13.1->torch<2.6,>=2.0->chronos-forecasting==1.4.1) (1.3.0)\n",
            "Requirement already satisfied: regex!=2019.12.17 in /usr/local/lib/python3.10/dist-packages (from transformers<4.48,>=4.30->chronos-forecasting==1.4.1) (2024.9.11)\n",
            "Requirement already satisfied: requests in /usr/local/lib/python3.10/dist-packages (from transformers<4.48,>=4.30->chronos-forecasting==1.4.1) (2.32.3)\n",
            "Requirement already satisfied: tokenizers<0.21,>=0.20 in /usr/local/lib/python3.10/dist-packages (from transformers<4.48,>=4.30->chronos-forecasting==1.4.1) (0.20.3)\n",
            "Requirement already satisfied: tqdm>=4.27 in /usr/local/lib/python3.10/dist-packages (from transformers<4.48,>=4.30->chronos-forecasting==1.4.1) (4.66.6)\n",
            "Requirement already satisfied: MarkupSafe>=2.0 in /usr/local/lib/python3.10/dist-packages (from jinja2->torch<2.6,>=2.0->chronos-forecasting==1.4.1) (3.0.2)\n",
            "Requirement already satisfied: charset-normalizer<4,>=2 in /usr/local/lib/python3.10/dist-packages (from requests->transformers<4.48,>=4.30->chronos-forecasting==1.4.1) (3.4.0)\n",
            "Requirement already satisfied: idna<4,>=2.5 in /usr/local/lib/python3.10/dist-packages (from requests->transformers<4.48,>=4.30->chronos-forecasting==1.4.1) (3.10)\n",
            "Requirement already satisfied: urllib3<3,>=1.21.1 in /usr/local/lib/python3.10/dist-packages (from requests->transformers<4.48,>=4.30->chronos-forecasting==1.4.1) (2.2.3)\n",
            "Requirement already satisfied: certifi>=2017.4.17 in /usr/local/lib/python3.10/dist-packages (from requests->transformers<4.48,>=4.30->chronos-forecasting==1.4.1) (2024.8.30)\n",
            "Downloading accelerate-0.34.2-py3-none-any.whl (324 kB)\n",
            "\u001b[2K   \u001b[90m━━━━━━━━━━━━━━━━━━━━━━━━━━━━━━━━━━━━━━━━\u001b[0m \u001b[32m324.4/324.4 kB\u001b[0m \u001b[31m21.0 MB/s\u001b[0m eta \u001b[36m0:00:00\u001b[0m\n",
            "\u001b[?25hBuilding wheels for collected packages: chronos-forecasting\n",
            "  Building wheel for chronos-forecasting (pyproject.toml) ... \u001b[?25l\u001b[?25hdone\n",
            "  Created wheel for chronos-forecasting: filename=chronos_forecasting-1.4.1-py3-none-any.whl size=28756 sha256=d5dc5b2abf7c97e21c6a5f0d7e761f0e5800232a121505bb013dbc4e75af7ada\n",
            "  Stored in directory: /tmp/pip-ephem-wheel-cache-i5u5hx74/wheels/bf/c1/65/08857e57345ef1b34ba0edb4791f1b2594943e82f34e93a4ab\n",
            "Successfully built chronos-forecasting\n",
            "Installing collected packages: accelerate, chronos-forecasting\n",
            "  Attempting uninstall: accelerate\n",
            "    Found existing installation: accelerate 1.1.1\n",
            "    Uninstalling accelerate-1.1.1:\n",
            "      Successfully uninstalled accelerate-1.1.1\n",
            "Successfully installed accelerate-0.34.2 chronos-forecasting-1.4.1\n",
            "Collecting gluonts[torch]\n",
            "  Downloading gluonts-0.16.0-py3-none-any.whl.metadata (9.8 kB)\n",
            "Requirement already satisfied: numpy<2.2,>=1.16 in /usr/local/lib/python3.10/dist-packages (from gluonts[torch]) (1.26.4)\n",
            "Requirement already satisfied: pandas<3,>=1.0 in /usr/local/lib/python3.10/dist-packages (from gluonts[torch]) (2.2.2)\n",
            "Requirement already satisfied: pydantic<3,>=1.7 in /usr/local/lib/python3.10/dist-packages (from gluonts[torch]) (2.10.3)\n",
            "Requirement already satisfied: tqdm~=4.23 in /usr/local/lib/python3.10/dist-packages (from gluonts[torch]) (4.66.6)\n",
            "Requirement already satisfied: toolz~=0.10 in /usr/local/lib/python3.10/dist-packages (from gluonts[torch]) (0.12.1)\n",
            "Requirement already satisfied: typing-extensions~=4.0 in /usr/local/lib/python3.10/dist-packages (from gluonts[torch]) (4.12.2)\n",
            "Requirement already satisfied: torch<3,>=1.9 in /usr/local/lib/python3.10/dist-packages (from gluonts[torch]) (2.5.1+cu121)\n",
            "Collecting lightning<2.5,>=2.2.2 (from gluonts[torch])\n",
            "  Downloading lightning-2.4.0-py3-none-any.whl.metadata (38 kB)\n",
            "Collecting pytorch-lightning<2.5,>=2.2.2 (from gluonts[torch])\n",
            "  Downloading pytorch_lightning-2.4.0-py3-none-any.whl.metadata (21 kB)\n",
            "Requirement already satisfied: scipy~=1.10 in /usr/local/lib/python3.10/dist-packages (from gluonts[torch]) (1.13.1)\n",
            "Requirement already satisfied: PyYAML<8.0,>=5.4 in /usr/local/lib/python3.10/dist-packages (from lightning<2.5,>=2.2.2->gluonts[torch]) (6.0.2)\n",
            "Requirement already satisfied: fsspec<2026.0,>=2022.5.0 in /usr/local/lib/python3.10/dist-packages (from fsspec[http]<2026.0,>=2022.5.0->lightning<2.5,>=2.2.2->gluonts[torch]) (2024.10.0)\n",
            "Collecting lightning-utilities<2.0,>=0.10.0 (from lightning<2.5,>=2.2.2->gluonts[torch])\n",
            "  Downloading lightning_utilities-0.11.9-py3-none-any.whl.metadata (5.2 kB)\n",
            "Requirement already satisfied: packaging<25.0,>=20.0 in /usr/local/lib/python3.10/dist-packages (from lightning<2.5,>=2.2.2->gluonts[torch]) (24.2)\n",
            "Collecting torchmetrics<3.0,>=0.7.0 (from lightning<2.5,>=2.2.2->gluonts[torch])\n",
            "  Downloading torchmetrics-1.6.0-py3-none-any.whl.metadata (20 kB)\n",
            "Requirement already satisfied: python-dateutil>=2.8.2 in /usr/local/lib/python3.10/dist-packages (from pandas<3,>=1.0->gluonts[torch]) (2.8.2)\n",
            "Requirement already satisfied: pytz>=2020.1 in /usr/local/lib/python3.10/dist-packages (from pandas<3,>=1.0->gluonts[torch]) (2024.2)\n",
            "Requirement already satisfied: tzdata>=2022.7 in /usr/local/lib/python3.10/dist-packages (from pandas<3,>=1.0->gluonts[torch]) (2024.2)\n",
            "Requirement already satisfied: annotated-types>=0.6.0 in /usr/local/lib/python3.10/dist-packages (from pydantic<3,>=1.7->gluonts[torch]) (0.7.0)\n",
            "Requirement already satisfied: pydantic-core==2.27.1 in /usr/local/lib/python3.10/dist-packages (from pydantic<3,>=1.7->gluonts[torch]) (2.27.1)\n",
            "Requirement already satisfied: filelock in /usr/local/lib/python3.10/dist-packages (from torch<3,>=1.9->gluonts[torch]) (3.16.1)\n",
            "Requirement already satisfied: networkx in /usr/local/lib/python3.10/dist-packages (from torch<3,>=1.9->gluonts[torch]) (3.4.2)\n",
            "Requirement already satisfied: jinja2 in /usr/local/lib/python3.10/dist-packages (from torch<3,>=1.9->gluonts[torch]) (3.1.4)\n",
            "Requirement already satisfied: sympy==1.13.1 in /usr/local/lib/python3.10/dist-packages (from torch<3,>=1.9->gluonts[torch]) (1.13.1)\n",
            "Requirement already satisfied: mpmath<1.4,>=1.1.0 in /usr/local/lib/python3.10/dist-packages (from sympy==1.13.1->torch<3,>=1.9->gluonts[torch]) (1.3.0)\n",
            "Requirement already satisfied: aiohttp!=4.0.0a0,!=4.0.0a1 in /usr/local/lib/python3.10/dist-packages (from fsspec[http]<2026.0,>=2022.5.0->lightning<2.5,>=2.2.2->gluonts[torch]) (3.11.10)\n",
            "Requirement already satisfied: setuptools in /usr/local/lib/python3.10/dist-packages (from lightning-utilities<2.0,>=0.10.0->lightning<2.5,>=2.2.2->gluonts[torch]) (75.1.0)\n",
            "Requirement already satisfied: six>=1.5 in /usr/local/lib/python3.10/dist-packages (from python-dateutil>=2.8.2->pandas<3,>=1.0->gluonts[torch]) (1.17.0)\n",
            "Requirement already satisfied: MarkupSafe>=2.0 in /usr/local/lib/python3.10/dist-packages (from jinja2->torch<3,>=1.9->gluonts[torch]) (3.0.2)\n",
            "Requirement already satisfied: aiohappyeyeballs>=2.3.0 in /usr/local/lib/python3.10/dist-packages (from aiohttp!=4.0.0a0,!=4.0.0a1->fsspec[http]<2026.0,>=2022.5.0->lightning<2.5,>=2.2.2->gluonts[torch]) (2.4.4)\n",
            "Requirement already satisfied: aiosignal>=1.1.2 in /usr/local/lib/python3.10/dist-packages (from aiohttp!=4.0.0a0,!=4.0.0a1->fsspec[http]<2026.0,>=2022.5.0->lightning<2.5,>=2.2.2->gluonts[torch]) (1.3.1)\n",
            "Requirement already satisfied: async-timeout<6.0,>=4.0 in /usr/local/lib/python3.10/dist-packages (from aiohttp!=4.0.0a0,!=4.0.0a1->fsspec[http]<2026.0,>=2022.5.0->lightning<2.5,>=2.2.2->gluonts[torch]) (4.0.3)\n",
            "Requirement already satisfied: attrs>=17.3.0 in /usr/local/lib/python3.10/dist-packages (from aiohttp!=4.0.0a0,!=4.0.0a1->fsspec[http]<2026.0,>=2022.5.0->lightning<2.5,>=2.2.2->gluonts[torch]) (24.2.0)\n",
            "Requirement already satisfied: frozenlist>=1.1.1 in /usr/local/lib/python3.10/dist-packages (from aiohttp!=4.0.0a0,!=4.0.0a1->fsspec[http]<2026.0,>=2022.5.0->lightning<2.5,>=2.2.2->gluonts[torch]) (1.5.0)\n",
            "Requirement already satisfied: multidict<7.0,>=4.5 in /usr/local/lib/python3.10/dist-packages (from aiohttp!=4.0.0a0,!=4.0.0a1->fsspec[http]<2026.0,>=2022.5.0->lightning<2.5,>=2.2.2->gluonts[torch]) (6.1.0)\n",
            "Requirement already satisfied: propcache>=0.2.0 in /usr/local/lib/python3.10/dist-packages (from aiohttp!=4.0.0a0,!=4.0.0a1->fsspec[http]<2026.0,>=2022.5.0->lightning<2.5,>=2.2.2->gluonts[torch]) (0.2.1)\n",
            "Requirement already satisfied: yarl<2.0,>=1.17.0 in /usr/local/lib/python3.10/dist-packages (from aiohttp!=4.0.0a0,!=4.0.0a1->fsspec[http]<2026.0,>=2022.5.0->lightning<2.5,>=2.2.2->gluonts[torch]) (1.18.3)\n",
            "Requirement already satisfied: idna>=2.0 in /usr/local/lib/python3.10/dist-packages (from yarl<2.0,>=1.17.0->aiohttp!=4.0.0a0,!=4.0.0a1->fsspec[http]<2026.0,>=2022.5.0->lightning<2.5,>=2.2.2->gluonts[torch]) (3.10)\n",
            "Downloading lightning-2.4.0-py3-none-any.whl (810 kB)\n",
            "\u001b[2K   \u001b[90m━━━━━━━━━━━━━━━━━━━━━━━━━━━━━━━━━━━━━━━━\u001b[0m \u001b[32m811.0/811.0 kB\u001b[0m \u001b[31m38.8 MB/s\u001b[0m eta \u001b[36m0:00:00\u001b[0m\n",
            "\u001b[?25hDownloading pytorch_lightning-2.4.0-py3-none-any.whl (815 kB)\n",
            "\u001b[2K   \u001b[90m━━━━━━━━━━━━━━━━━━━━━━━━━━━━━━━━━━━━━━━━\u001b[0m \u001b[32m815.2/815.2 kB\u001b[0m \u001b[31m23.0 MB/s\u001b[0m eta \u001b[36m0:00:00\u001b[0m\n",
            "\u001b[?25hDownloading gluonts-0.16.0-py3-none-any.whl (1.5 MB)\n",
            "\u001b[2K   \u001b[90m━━━━━━━━━━━━━━━━━━━━━━━━━━━━━━━━━━━━━━━━\u001b[0m \u001b[32m1.5/1.5 MB\u001b[0m \u001b[31m41.8 MB/s\u001b[0m eta \u001b[36m0:00:00\u001b[0m\n",
            "\u001b[?25hDownloading lightning_utilities-0.11.9-py3-none-any.whl (28 kB)\n",
            "Downloading torchmetrics-1.6.0-py3-none-any.whl (926 kB)\n",
            "\u001b[2K   \u001b[90m━━━━━━━━━━━━━━━━━━━━━━━━━━━━━━━━━━━━━━━━\u001b[0m \u001b[32m926.4/926.4 kB\u001b[0m \u001b[31m57.7 MB/s\u001b[0m eta \u001b[36m0:00:00\u001b[0m\n",
            "\u001b[?25hInstalling collected packages: lightning-utilities, torchmetrics, gluonts, pytorch-lightning, lightning\n",
            "Successfully installed gluonts-0.16.0 lightning-2.4.0 lightning-utilities-0.11.9 pytorch-lightning-2.4.0 torchmetrics-1.6.0\n",
            "Collecting typer-config\n",
            "  Downloading typer_config-1.4.2-py3-none-any.whl.metadata (4.3 kB)\n",
            "Requirement already satisfied: typer<1,>=0 in /usr/local/lib/python3.10/dist-packages (from typer-config) (0.15.1)\n",
            "Requirement already satisfied: click>=8.0.0 in /usr/local/lib/python3.10/dist-packages (from typer<1,>=0->typer-config) (8.1.7)\n",
            "Requirement already satisfied: typing-extensions>=3.7.4.3 in /usr/local/lib/python3.10/dist-packages (from typer<1,>=0->typer-config) (4.12.2)\n",
            "Requirement already satisfied: shellingham>=1.3.0 in /usr/local/lib/python3.10/dist-packages (from typer<1,>=0->typer-config) (1.5.4)\n",
            "Requirement already satisfied: rich>=10.11.0 in /usr/local/lib/python3.10/dist-packages (from typer<1,>=0->typer-config) (13.9.4)\n",
            "Requirement already satisfied: markdown-it-py>=2.2.0 in /usr/local/lib/python3.10/dist-packages (from rich>=10.11.0->typer<1,>=0->typer-config) (3.0.0)\n",
            "Requirement already satisfied: pygments<3.0.0,>=2.13.0 in /usr/local/lib/python3.10/dist-packages (from rich>=10.11.0->typer<1,>=0->typer-config) (2.18.0)\n",
            "Requirement already satisfied: mdurl~=0.1 in /usr/local/lib/python3.10/dist-packages (from markdown-it-py>=2.2.0->rich>=10.11.0->typer<1,>=0->typer-config) (0.1.2)\n",
            "Downloading typer_config-1.4.2-py3-none-any.whl (11 kB)\n",
            "Installing collected packages: typer-config\n",
            "Successfully installed typer-config-1.4.2\n",
            "Collecting triton\n",
            "  Downloading triton-3.1.0-cp310-cp310-manylinux_2_17_x86_64.manylinux2014_x86_64.whl.metadata (1.3 kB)\n",
            "Requirement already satisfied: filelock in /usr/local/lib/python3.10/dist-packages (from triton) (3.16.1)\n",
            "Downloading triton-3.1.0-cp310-cp310-manylinux_2_17_x86_64.manylinux2014_x86_64.whl (209.5 MB)\n",
            "\u001b[2K   \u001b[90m━━━━━━━━━━━━━━━━━━━━━━━━━━━━━━━━━━━━━━━━\u001b[0m \u001b[32m209.5/209.5 MB\u001b[0m \u001b[31m5.8 MB/s\u001b[0m eta \u001b[36m0:00:00\u001b[0m\n",
            "\u001b[?25hInstalling collected packages: triton\n",
            "Successfully installed triton-3.1.0\n"
          ]
        }
      ]
    },
    {
      "cell_type": "markdown",
      "source": [
        "## Generate training and validation splits"
      ],
      "metadata": {
        "id": "F812wifzkjqb"
      }
    },
    {
      "cell_type": "code",
      "source": [
        "import pandas as pd\n",
        "import numpy as np"
      ],
      "metadata": {
        "id": "HBd9QuO2kl6j"
      },
      "execution_count": 3,
      "outputs": []
    },
    {
      "cell_type": "code",
      "source": [
        "df = pd.read_csv(\"Mastercard_stock_history.csv\") # change file path as needed\n",
        "df = df[[\"Date\", \"Close\"]]\n",
        "df[\"Date\"] = pd.to_datetime(df[\"Date\"])\n",
        "df = df.set_index(\"Date\")\n",
        "df = df.resample(\"D\").ffill()\n",
        "\n",
        "dates = df.index.to_numpy()\n",
        "df = df[[\"Close\"]]\n",
        "df = df.to_numpy()"
      ],
      "metadata": {
        "id": "dOuf7LNIkmOj"
      },
      "execution_count": 77,
      "outputs": []
    },
    {
      "cell_type": "code",
      "source": [
        "df = [df.squeeze()]"
      ],
      "metadata": {
        "id": "tNbQz64vui-c"
      },
      "execution_count": 78,
      "outputs": []
    },
    {
      "cell_type": "markdown",
      "source": [
        "## Actual code"
      ],
      "metadata": {
        "id": "PCWf0l8_Tt8A"
      }
    },
    {
      "cell_type": "code",
      "source": [
        "from pathlib import Path\n",
        "from typing import List, Union\n",
        "\n",
        "import numpy as np\n",
        "from gluonts.dataset.arrow import ArrowWriter\n",
        "\n",
        "\n",
        "def convert_to_arrow(\n",
        "    path: Union[str, Path],\n",
        "    time_series: Union[List[np.ndarray], np.ndarray],\n",
        "    dates: np.ndarray,\n",
        "    compression: str = \"lz4\",\n",
        "):\n",
        "    \"\"\"\n",
        "    Store a given set of series into Arrow format at the specified path.\n",
        "\n",
        "    Input data can be either a list of 1D numpy arrays, or a single 2D\n",
        "    numpy array of shape (num_series, time_length).\n",
        "    \"\"\"\n",
        "    assert isinstance(time_series, list) or (\n",
        "        isinstance(time_series, np.ndarray) and\n",
        "        time_series.ndim == 2\n",
        "    )\n",
        "\n",
        "    start = dates[0]\n",
        "\n",
        "    dataset = [\n",
        "        {\"start\": start, \"target\": ts} for ts in time_series\n",
        "    ]\n",
        "\n",
        "    ArrowWriter(compression=compression).write_to_file(\n",
        "        dataset,\n",
        "        path=path,\n",
        "    )\n",
        "\n",
        "\n",
        "if __name__ == \"__main__\":\n",
        "    time_series = df\n",
        "\n",
        "    # Convert to GluonTS arrow format\n",
        "    convert_to_arrow(\"./mastercard.arrow\", time_series=df, dates=dates)"
      ],
      "metadata": {
        "id": "GxJCcYumj9-T"
      },
      "execution_count": 81,
      "outputs": []
    },
    {
      "cell_type": "code",
      "source": [
        "!CUDA_VISIBLE_DEVICES=0 python ./finetuning/training/train.py --config ./finetuning/training/configs/chronos-t5-small.yaml"
      ],
      "metadata": {
        "colab": {
          "base_uri": "https://localhost:8080/"
        },
        "id": "BBvpDr-Qk1nY",
        "outputId": "3516ece9-765b-40f2-f625-ff65aa19f090"
      },
      "execution_count": 83,
      "outputs": [
        {
          "output_type": "stream",
          "name": "stdout",
          "text": [
            "2024-12-15 13:25:17.060021: E external/local_xla/xla/stream_executor/cuda/cuda_fft.cc:485] Unable to register cuFFT factory: Attempting to register factory for plugin cuFFT when one has already been registered\n",
            "2024-12-15 13:25:17.080675: E external/local_xla/xla/stream_executor/cuda/cuda_dnn.cc:8454] Unable to register cuDNN factory: Attempting to register factory for plugin cuDNN when one has already been registered\n",
            "2024-12-15 13:25:17.086860: E external/local_xla/xla/stream_executor/cuda/cuda_blas.cc:1452] Unable to register cuBLAS factory: Attempting to register factory for plugin cuBLAS when one has already been registered\n",
            "2024-12-15 13:25:17.101451: I tensorflow/core/platform/cpu_feature_guard.cc:210] This TensorFlow binary is optimized to use available CPU instructions in performance-critical operations.\n",
            "To enable the following instructions: AVX2 FMA, in other operations, rebuild TensorFlow with the appropriate compiler flags.\n",
            "2024-12-15 13:25:18.323829: W tensorflow/compiler/tf2tensorrt/utils/py_utils.cc:38] TF-TRT Warning: Could not find TensorRT\n",
            "2024-12-15 13:25:20,686 - /content/./finetuning/training/train.py - INFO - TF32 format is only available on devices with compute capability >= 8. Setting tf32 to False.\n",
            "2024-12-15 13:25:20,686 - /content/./finetuning/training/train.py - INFO - Using SEED: 4242375631\n",
            "2024-12-15 13:25:20,689 - /content/./finetuning/training/train.py - INFO - Logging dir: output/run-13\n",
            "2024-12-15 13:25:20,689 - /content/./finetuning/training/train.py - INFO - Loading and filtering 1 datasets for training: ['mastercard.arrow']\n",
            "2024-12-15 13:25:20,689 - /content/./finetuning/training/train.py - INFO - Mixing probabilities: [1.0]\n",
            "2024-12-15 13:25:20,690 - /content/./finetuning/training/train.py - INFO - Initializing model\n",
            "2024-12-15 13:25:20,690 - /content/./finetuning/training/train.py - INFO - Using random initialization\n",
            "The speedups for torchdynamo mostly come wih GPU Ampere or higher and which is not detected here.\n",
            "max_steps is given, it will override any value given in num_train_epochs\n",
            "2024-12-15 13:25:22,663 - /content/./finetuning/training/train.py - INFO - Training\n",
            "  0% 0/200 [00:00<?, ?it/s]Passing a tuple of `past_key_values` is deprecated and will be removed in Transformers v4.48.0. You should pass an instance of `EncoderDecoderCache` instead, e.g. `past_key_values=EncoderDecoderCache.from_legacy_cache(past_key_values)`.\n",
            "{'loss': 8.2352, 'grad_norm': 0.08208805322647095, 'learning_rate': 0.00075, 'epoch': 0.25}\n",
            "{'loss': 7.9866, 'grad_norm': 0.14989160001277924, 'learning_rate': 0.0005, 'epoch': 0.5}\n",
            "{'loss': 7.6878, 'grad_norm': 0.18359242379665375, 'learning_rate': 0.00025, 'epoch': 0.75}\n",
            "{'loss': 7.5026, 'grad_norm': 0.20747894048690796, 'learning_rate': 0.0, 'epoch': 1.0}\n",
            "{'train_runtime': 410.2695, 'train_samples_per_second': 15.6, 'train_steps_per_second': 0.487, 'train_loss': 7.853031311035156, 'epoch': 1.0}\n",
            "100% 200/200 [06:50<00:00,  2.05s/it]\n"
          ]
        }
      ]
    },
    {
      "cell_type": "markdown",
      "source": [
        "Zip the finetuning files modified in this run"
      ],
      "metadata": {
        "id": "WgAgjhGjxUuT"
      }
    },
    {
      "cell_type": "code",
      "source": [
        "!zip -r finetuning.zip finetuning"
      ],
      "metadata": {
        "id": "WBrTT2kOj-1-",
        "colab": {
          "base_uri": "https://localhost:8080/"
        },
        "outputId": "73bab329-177a-4c96-a906-2a4c74d2f956"
      },
      "execution_count": 84,
      "outputs": [
        {
          "output_type": "stream",
          "name": "stdout",
          "text": [
            "updating: finetuning/evaluation/ (stored 0%)\n",
            "updating: finetuning/training/ (stored 0%)\n",
            "updating: finetuning/ (stored 0%)\n",
            "updating: finetuning/training/configs/ (stored 0%)\n",
            "updating: finetuning/training/configs/chronos-t5-large.yaml (deflated 40%)\n",
            "updating: finetuning/training/configs/chronos-t5-small.yaml (deflated 39%)\n",
            "updating: finetuning/training/train.py (deflated 71%)\n",
            "updating: finetuning/evaluation/agg-relative-score.py (deflated 63%)\n",
            "updating: finetuning/evaluation/evaluate.py (deflated 68%)\n",
            "updating: finetuning/evaluation/configs/ (stored 0%)\n",
            "updating: finetuning/evaluation/configs/zero-shot.yaml (deflated 86%)\n",
            "updating: finetuning/evaluation/configs/in-domain.yaml (deflated 81%)\n"
          ]
        }
      ]
    }
  ]
}